{
 "cells": [
  {
   "cell_type": "code",
   "execution_count": 2,
   "metadata": {},
   "outputs": [],
   "source": [
    "import pandas as pd\n",
    "import numpy as np\n",
    "import matplotlib.pyplot as plt\n",
    "import seaborn as sns\n",
    "import scipy"
   ]
  },
  {
   "cell_type": "code",
   "execution_count": 3,
   "metadata": {},
   "outputs": [],
   "source": [
    "portrait_tg = pd.read_csv('/Users/macbook/Downloads/Topface/Data/portrait_TG.csv', sep=';')\n",
    "portrait_cg1 = pd.read_csv('/Users/macbook/Downloads/Topface/Data/portrait_CG1.csv', sep = ';')\n",
    "portrait_cg2 = pd.read_csv('/Users/macbook/Downloads/Topface/Data/portrait_CG2.csv', sep = ';')\n",
    "payments_tg = pd.read_csv('/Users/macbook/Downloads/Topface/Data/payments_TG.csv', sep=';', parse_dates = [1,2])\n",
    "payments_cg1 = pd.read_csv('/Users/macbook/Downloads/Topface/Data/payments_CG1.csv', sep = ';', parse_dates = [1,2])\n",
    "payments_cg2 = pd.read_csv('/Users/macbook/Downloads/Topface/Data/payments_CG2.csv', sep = ';', parse_dates = [1,2])"
   ]
  },
  {
   "cell_type": "markdown",
   "metadata": {},
   "source": [
    "#### Посмотрим на данные:"
   ]
  },
  {
   "cell_type": "code",
   "execution_count": 4,
   "metadata": {},
   "outputs": [
    {
     "data": {
      "text/html": [
       "<div>\n",
       "<style scoped>\n",
       "    .dataframe tbody tr th:only-of-type {\n",
       "        vertical-align: middle;\n",
       "    }\n",
       "\n",
       "    .dataframe tbody tr th {\n",
       "        vertical-align: top;\n",
       "    }\n",
       "\n",
       "    .dataframe thead th {\n",
       "        text-align: right;\n",
       "    }\n",
       "</style>\n",
       "<table border=\"1\" class=\"dataframe\">\n",
       "  <thead>\n",
       "    <tr style=\"text-align: right;\">\n",
       "      <th></th>\n",
       "      <th>user_id</th>\n",
       "      <th>age</th>\n",
       "      <th>attraction_distribution</th>\n",
       "      <th>coins</th>\n",
       "      <th>country</th>\n",
       "      <th>retention_days</th>\n",
       "      <th>sex</th>\n",
       "      <th>user_dating.age_start</th>\n",
       "      <th>user_dating.age_end</th>\n",
       "      <th>view_count</th>\n",
       "      <th>was_special</th>\n",
       "      <th>is_special</th>\n",
       "      <th>total_revenue</th>\n",
       "    </tr>\n",
       "  </thead>\n",
       "  <tbody>\n",
       "    <tr>\n",
       "      <td>0</td>\n",
       "      <td>892309896</td>\n",
       "      <td>27</td>\n",
       "      <td>685</td>\n",
       "      <td>NaN</td>\n",
       "      <td>US</td>\n",
       "      <td>1,2,3,4,5,6,7,8,9,10,11,12,16,17</td>\n",
       "      <td>1</td>\n",
       "      <td>24</td>\n",
       "      <td>30</td>\n",
       "      <td>89</td>\n",
       "      <td>NaN</td>\n",
       "      <td>NaN</td>\n",
       "      <td>0</td>\n",
       "    </tr>\n",
       "    <tr>\n",
       "      <td>1</td>\n",
       "      <td>892044516</td>\n",
       "      <td>27</td>\n",
       "      <td>0</td>\n",
       "      <td>NaN</td>\n",
       "      <td>DE</td>\n",
       "      <td>NaN</td>\n",
       "      <td>1</td>\n",
       "      <td>24</td>\n",
       "      <td>30</td>\n",
       "      <td>0</td>\n",
       "      <td>NaN</td>\n",
       "      <td>NaN</td>\n",
       "      <td>0</td>\n",
       "    </tr>\n",
       "    <tr>\n",
       "      <td>2</td>\n",
       "      <td>892185708</td>\n",
       "      <td>45</td>\n",
       "      <td>44</td>\n",
       "      <td>NaN</td>\n",
       "      <td>IL</td>\n",
       "      <td>1,3,4,6,7,8,10,11,12,13,14,15,16,17,18,19,20,2...</td>\n",
       "      <td>1</td>\n",
       "      <td>42</td>\n",
       "      <td>48</td>\n",
       "      <td>68</td>\n",
       "      <td>NaN</td>\n",
       "      <td>NaN</td>\n",
       "      <td>0</td>\n",
       "    </tr>\n",
       "    <tr>\n",
       "      <td>3</td>\n",
       "      <td>892130292</td>\n",
       "      <td>32</td>\n",
       "      <td>0</td>\n",
       "      <td>NaN</td>\n",
       "      <td>US</td>\n",
       "      <td>1,2,3,4,5,6,7,8,9,10,11,12</td>\n",
       "      <td>1</td>\n",
       "      <td>29</td>\n",
       "      <td>35</td>\n",
       "      <td>0</td>\n",
       "      <td>NaN</td>\n",
       "      <td>NaN</td>\n",
       "      <td>0</td>\n",
       "    </tr>\n",
       "    <tr>\n",
       "      <td>4</td>\n",
       "      <td>891406035</td>\n",
       "      <td>27</td>\n",
       "      <td>1000</td>\n",
       "      <td>NaN</td>\n",
       "      <td>FR</td>\n",
       "      <td>NaN</td>\n",
       "      <td>1</td>\n",
       "      <td>24</td>\n",
       "      <td>30</td>\n",
       "      <td>1</td>\n",
       "      <td>1.0</td>\n",
       "      <td>NaN</td>\n",
       "      <td>0</td>\n",
       "    </tr>\n",
       "    <tr>\n",
       "      <td>...</td>\n",
       "      <td>...</td>\n",
       "      <td>...</td>\n",
       "      <td>...</td>\n",
       "      <td>...</td>\n",
       "      <td>...</td>\n",
       "      <td>...</td>\n",
       "      <td>...</td>\n",
       "      <td>...</td>\n",
       "      <td>...</td>\n",
       "      <td>...</td>\n",
       "      <td>...</td>\n",
       "      <td>...</td>\n",
       "      <td>...</td>\n",
       "    </tr>\n",
       "    <tr>\n",
       "      <td>4303</td>\n",
       "      <td>891078639</td>\n",
       "      <td>17</td>\n",
       "      <td>895</td>\n",
       "      <td>NaN</td>\n",
       "      <td>US</td>\n",
       "      <td>1,2,3,4,5</td>\n",
       "      <td>1</td>\n",
       "      <td>16</td>\n",
       "      <td>20</td>\n",
       "      <td>96</td>\n",
       "      <td>NaN</td>\n",
       "      <td>NaN</td>\n",
       "      <td>0</td>\n",
       "    </tr>\n",
       "    <tr>\n",
       "      <td>4304</td>\n",
       "      <td>891188733</td>\n",
       "      <td>27</td>\n",
       "      <td>866</td>\n",
       "      <td>NaN</td>\n",
       "      <td>US</td>\n",
       "      <td>1,2,3</td>\n",
       "      <td>1</td>\n",
       "      <td>18</td>\n",
       "      <td>41</td>\n",
       "      <td>30</td>\n",
       "      <td>NaN</td>\n",
       "      <td>NaN</td>\n",
       "      <td>0</td>\n",
       "    </tr>\n",
       "    <tr>\n",
       "      <td>4305</td>\n",
       "      <td>891293718</td>\n",
       "      <td>48</td>\n",
       "      <td>0</td>\n",
       "      <td>NaN</td>\n",
       "      <td>AR</td>\n",
       "      <td>NaN</td>\n",
       "      <td>1</td>\n",
       "      <td>47</td>\n",
       "      <td>51</td>\n",
       "      <td>10</td>\n",
       "      <td>NaN</td>\n",
       "      <td>NaN</td>\n",
       "      <td>0</td>\n",
       "    </tr>\n",
       "    <tr>\n",
       "      <td>4306</td>\n",
       "      <td>891192357</td>\n",
       "      <td>32</td>\n",
       "      <td>0</td>\n",
       "      <td>NaN</td>\n",
       "      <td>AU</td>\n",
       "      <td>NaN</td>\n",
       "      <td>1</td>\n",
       "      <td>16</td>\n",
       "      <td>49</td>\n",
       "      <td>0</td>\n",
       "      <td>NaN</td>\n",
       "      <td>NaN</td>\n",
       "      <td>0</td>\n",
       "    </tr>\n",
       "    <tr>\n",
       "      <td>4307</td>\n",
       "      <td>891668910</td>\n",
       "      <td>35</td>\n",
       "      <td>575</td>\n",
       "      <td>NaN</td>\n",
       "      <td>AE</td>\n",
       "      <td>1</td>\n",
       "      <td>1</td>\n",
       "      <td>16</td>\n",
       "      <td>99</td>\n",
       "      <td>73</td>\n",
       "      <td>NaN</td>\n",
       "      <td>NaN</td>\n",
       "      <td>0</td>\n",
       "    </tr>\n",
       "  </tbody>\n",
       "</table>\n",
       "<p>4308 rows × 13 columns</p>\n",
       "</div>"
      ],
      "text/plain": [
       "        user_id  age  attraction_distribution  coins country  \\\n",
       "0     892309896   27                      685    NaN      US   \n",
       "1     892044516   27                        0    NaN      DE   \n",
       "2     892185708   45                       44    NaN      IL   \n",
       "3     892130292   32                        0    NaN      US   \n",
       "4     891406035   27                     1000    NaN      FR   \n",
       "...         ...  ...                      ...    ...     ...   \n",
       "4303  891078639   17                      895    NaN      US   \n",
       "4304  891188733   27                      866    NaN      US   \n",
       "4305  891293718   48                        0    NaN      AR   \n",
       "4306  891192357   32                        0    NaN      AU   \n",
       "4307  891668910   35                      575    NaN      AE   \n",
       "\n",
       "                                         retention_days  sex  \\\n",
       "0                      1,2,3,4,5,6,7,8,9,10,11,12,16,17    1   \n",
       "1                                                   NaN    1   \n",
       "2     1,3,4,6,7,8,10,11,12,13,14,15,16,17,18,19,20,2...    1   \n",
       "3                            1,2,3,4,5,6,7,8,9,10,11,12    1   \n",
       "4                                                   NaN    1   \n",
       "...                                                 ...  ...   \n",
       "4303                                          1,2,3,4,5    1   \n",
       "4304                                              1,2,3    1   \n",
       "4305                                                NaN    1   \n",
       "4306                                                NaN    1   \n",
       "4307                                                  1    1   \n",
       "\n",
       "      user_dating.age_start  user_dating.age_end  view_count  was_special  \\\n",
       "0                        24                   30          89          NaN   \n",
       "1                        24                   30           0          NaN   \n",
       "2                        42                   48          68          NaN   \n",
       "3                        29                   35           0          NaN   \n",
       "4                        24                   30           1          1.0   \n",
       "...                     ...                  ...         ...          ...   \n",
       "4303                     16                   20          96          NaN   \n",
       "4304                     18                   41          30          NaN   \n",
       "4305                     47                   51          10          NaN   \n",
       "4306                     16                   49           0          NaN   \n",
       "4307                     16                   99          73          NaN   \n",
       "\n",
       "      is_special  total_revenue  \n",
       "0            NaN              0  \n",
       "1            NaN              0  \n",
       "2            NaN              0  \n",
       "3            NaN              0  \n",
       "4            NaN              0  \n",
       "...          ...            ...  \n",
       "4303         NaN              0  \n",
       "4304         NaN              0  \n",
       "4305         NaN              0  \n",
       "4306         NaN              0  \n",
       "4307         NaN              0  \n",
       "\n",
       "[4308 rows x 13 columns]"
      ]
     },
     "execution_count": 4,
     "metadata": {},
     "output_type": "execute_result"
    }
   ],
   "source": [
    "portrait_tg"
   ]
  },
  {
   "cell_type": "code",
   "execution_count": 5,
   "metadata": {},
   "outputs": [
    {
     "name": "stdout",
     "output_type": "stream",
     "text": [
      "<class 'pandas.core.frame.DataFrame'>\n",
      "RangeIndex: 4308 entries, 0 to 4307\n",
      "Data columns (total 13 columns):\n",
      "user_id                    4308 non-null int64\n",
      "age                        4308 non-null int64\n",
      "attraction_distribution    4308 non-null int64\n",
      "coins                      49 non-null float64\n",
      "country                    4308 non-null object\n",
      "retention_days             2978 non-null object\n",
      "sex                        4308 non-null int64\n",
      "user_dating.age_start      4308 non-null int64\n",
      "user_dating.age_end        4308 non-null int64\n",
      "view_count                 4308 non-null int64\n",
      "was_special                408 non-null float64\n",
      "is_special                 157 non-null float64\n",
      "total_revenue              4308 non-null int64\n",
      "dtypes: float64(3), int64(8), object(2)\n",
      "memory usage: 437.7+ KB\n"
     ]
    }
   ],
   "source": [
    "portrait_tg.info()"
   ]
  },
  {
   "cell_type": "code",
   "execution_count": 6,
   "metadata": {},
   "outputs": [
    {
     "data": {
      "text/html": [
       "<div>\n",
       "<style scoped>\n",
       "    .dataframe tbody tr th:only-of-type {\n",
       "        vertical-align: middle;\n",
       "    }\n",
       "\n",
       "    .dataframe tbody tr th {\n",
       "        vertical-align: top;\n",
       "    }\n",
       "\n",
       "    .dataframe thead th {\n",
       "        text-align: right;\n",
       "    }\n",
       "</style>\n",
       "<table border=\"1\" class=\"dataframe\">\n",
       "  <thead>\n",
       "    <tr style=\"text-align: right;\">\n",
       "      <th></th>\n",
       "      <th>user_id</th>\n",
       "      <th>registration_date</th>\n",
       "      <th>payment_date</th>\n",
       "      <th>revenue</th>\n",
       "      <th>payment_service_id</th>\n",
       "      <th>place</th>\n",
       "      <th>country</th>\n",
       "      <th>product_type</th>\n",
       "    </tr>\n",
       "  </thead>\n",
       "  <tbody>\n",
       "    <tr>\n",
       "      <td>0</td>\n",
       "      <td>891345942</td>\n",
       "      <td>2017-05-11 13:00:00</td>\n",
       "      <td>2017-11-13 15:04:00</td>\n",
       "      <td>12909</td>\n",
       "      <td>147</td>\n",
       "      <td>TrialVipPopup</td>\n",
       "      <td>IT</td>\n",
       "      <td>trial</td>\n",
       "    </tr>\n",
       "    <tr>\n",
       "      <td>1</td>\n",
       "      <td>892054251</td>\n",
       "      <td>2017-10-22 00:33:00</td>\n",
       "      <td>2017-10-30 01:37:00</td>\n",
       "      <td>13923</td>\n",
       "      <td>147</td>\n",
       "      <td>TrialVipPopup</td>\n",
       "      <td>US</td>\n",
       "      <td>trial</td>\n",
       "    </tr>\n",
       "    <tr>\n",
       "      <td>2</td>\n",
       "      <td>892236423</td>\n",
       "      <td>2017-10-18 01:09:00</td>\n",
       "      <td>2017-10-23 00:15:00</td>\n",
       "      <td>3783</td>\n",
       "      <td>67</td>\n",
       "      <td>Menu</td>\n",
       "      <td>US</td>\n",
       "      <td>other</td>\n",
       "    </tr>\n",
       "    <tr>\n",
       "      <td>3</td>\n",
       "      <td>892236423</td>\n",
       "      <td>2017-10-18 01:09:00</td>\n",
       "      <td>2017-10-27 22:38:00</td>\n",
       "      <td>3783</td>\n",
       "      <td>67</td>\n",
       "      <td>Menu</td>\n",
       "      <td>US</td>\n",
       "      <td>other</td>\n",
       "    </tr>\n",
       "    <tr>\n",
       "      <td>4</td>\n",
       "      <td>892168170</td>\n",
       "      <td>2017-10-19 17:10:00</td>\n",
       "      <td>2017-10-27 19:10:00</td>\n",
       "      <td>9087</td>\n",
       "      <td>147</td>\n",
       "      <td>TrialVipPopup</td>\n",
       "      <td>US</td>\n",
       "      <td>trial</td>\n",
       "    </tr>\n",
       "    <tr>\n",
       "      <td>...</td>\n",
       "      <td>...</td>\n",
       "      <td>...</td>\n",
       "      <td>...</td>\n",
       "      <td>...</td>\n",
       "      <td>...</td>\n",
       "      <td>...</td>\n",
       "      <td>...</td>\n",
       "      <td>...</td>\n",
       "    </tr>\n",
       "    <tr>\n",
       "      <td>268</td>\n",
       "      <td>891419625</td>\n",
       "      <td>2017-04-11 05:58:00</td>\n",
       "      <td>2017-11-11 08:33:00</td>\n",
       "      <td>14352</td>\n",
       "      <td>147</td>\n",
       "      <td>TrialVipPopup</td>\n",
       "      <td>IL</td>\n",
       "      <td>trial</td>\n",
       "    </tr>\n",
       "    <tr>\n",
       "      <td>269</td>\n",
       "      <td>891447105</td>\n",
       "      <td>2017-03-11 17:05:00</td>\n",
       "      <td>2017-11-11 04:23:00</td>\n",
       "      <td>7319</td>\n",
       "      <td>147</td>\n",
       "      <td>Fans</td>\n",
       "      <td>GB</td>\n",
       "      <td>prem</td>\n",
       "    </tr>\n",
       "    <tr>\n",
       "      <td>270</td>\n",
       "      <td>891497073</td>\n",
       "      <td>2017-02-11 15:33:00</td>\n",
       "      <td>2017-05-11 04:06:00</td>\n",
       "      <td>2730</td>\n",
       "      <td>67</td>\n",
       "      <td>EmptyLikes</td>\n",
       "      <td>US</td>\n",
       "      <td>other</td>\n",
       "    </tr>\n",
       "    <tr>\n",
       "      <td>271</td>\n",
       "      <td>891406224</td>\n",
       "      <td>2017-04-11 12:56:00</td>\n",
       "      <td>2017-04-11 13:35:00</td>\n",
       "      <td>2743</td>\n",
       "      <td>67</td>\n",
       "      <td>EmptyLikes</td>\n",
       "      <td>IL</td>\n",
       "      <td>other</td>\n",
       "    </tr>\n",
       "    <tr>\n",
       "      <td>272</td>\n",
       "      <td>891499359</td>\n",
       "      <td>2017-02-11 14:25:00</td>\n",
       "      <td>2017-02-11 14:30:00</td>\n",
       "      <td>1599</td>\n",
       "      <td>19</td>\n",
       "      <td>none</td>\n",
       "      <td>DE</td>\n",
       "      <td>coins</td>\n",
       "    </tr>\n",
       "  </tbody>\n",
       "</table>\n",
       "<p>273 rows × 8 columns</p>\n",
       "</div>"
      ],
      "text/plain": [
       "       user_id   registration_date        payment_date  revenue  \\\n",
       "0    891345942 2017-05-11 13:00:00 2017-11-13 15:04:00    12909   \n",
       "1    892054251 2017-10-22 00:33:00 2017-10-30 01:37:00    13923   \n",
       "2    892236423 2017-10-18 01:09:00 2017-10-23 00:15:00     3783   \n",
       "3    892236423 2017-10-18 01:09:00 2017-10-27 22:38:00     3783   \n",
       "4    892168170 2017-10-19 17:10:00 2017-10-27 19:10:00     9087   \n",
       "..         ...                 ...                 ...      ...   \n",
       "268  891419625 2017-04-11 05:58:00 2017-11-11 08:33:00    14352   \n",
       "269  891447105 2017-03-11 17:05:00 2017-11-11 04:23:00     7319   \n",
       "270  891497073 2017-02-11 15:33:00 2017-05-11 04:06:00     2730   \n",
       "271  891406224 2017-04-11 12:56:00 2017-04-11 13:35:00     2743   \n",
       "272  891499359 2017-02-11 14:25:00 2017-02-11 14:30:00     1599   \n",
       "\n",
       "     payment_service_id          place country product_type  \n",
       "0                   147  TrialVipPopup      IT        trial  \n",
       "1                   147  TrialVipPopup      US        trial  \n",
       "2                    67           Menu      US        other  \n",
       "3                    67           Menu      US        other  \n",
       "4                   147  TrialVipPopup      US        trial  \n",
       "..                  ...            ...     ...          ...  \n",
       "268                 147  TrialVipPopup      IL        trial  \n",
       "269                 147           Fans      GB         prem  \n",
       "270                  67     EmptyLikes      US        other  \n",
       "271                  67     EmptyLikes      IL        other  \n",
       "272                  19           none      DE        coins  \n",
       "\n",
       "[273 rows x 8 columns]"
      ]
     },
     "execution_count": 6,
     "metadata": {},
     "output_type": "execute_result"
    }
   ],
   "source": [
    "payments_tg"
   ]
  },
  {
   "cell_type": "code",
   "execution_count": 7,
   "metadata": {},
   "outputs": [
    {
     "name": "stdout",
     "output_type": "stream",
     "text": [
      "<class 'pandas.core.frame.DataFrame'>\n",
      "RangeIndex: 273 entries, 0 to 272\n",
      "Data columns (total 8 columns):\n",
      "user_id               273 non-null int64\n",
      "registration_date     273 non-null datetime64[ns]\n",
      "payment_date          273 non-null datetime64[ns]\n",
      "revenue               273 non-null int64\n",
      "payment_service_id    273 non-null int64\n",
      "place                 273 non-null object\n",
      "country               273 non-null object\n",
      "product_type          273 non-null object\n",
      "dtypes: datetime64[ns](2), int64(3), object(3)\n",
      "memory usage: 17.2+ KB\n"
     ]
    }
   ],
   "source": [
    "payments_tg.info()"
   ]
  },
  {
   "cell_type": "markdown",
   "metadata": {},
   "source": [
    "#### Для удобства анализа объединим данные по пользователям и платежам"
   ]
  },
  {
   "cell_type": "code",
   "execution_count": 8,
   "metadata": {},
   "outputs": [],
   "source": [
    "portrait_tg['group'] = 'tg'\n",
    "portrait_cg1['group'] = 'cg1'\n",
    "portrait_cg2['group'] = 'cg2'\n",
    "portrait = portrait_tg.append(portrait_cg1.append(portrait_cg2, ignore_index = True), ignore_index = True)"
   ]
  },
  {
   "cell_type": "code",
   "execution_count": 9,
   "metadata": {},
   "outputs": [],
   "source": [
    "portrait = portrait_tg.append(portrait_cg1.append(portrait_cg2, ignore_index = True), ignore_index = True)"
   ]
  },
  {
   "cell_type": "code",
   "execution_count": 10,
   "metadata": {},
   "outputs": [],
   "source": [
    "# В таблице платежей CG1 считаны пустые строки, удалим их:\n",
    "# (непустые строки пропусков данных не имеют)\n",
    "payments_cg1.dropna(inplace = True)"
   ]
  },
  {
   "cell_type": "code",
   "execution_count": 11,
   "metadata": {},
   "outputs": [
    {
     "name": "stdout",
     "output_type": "stream",
     "text": [
      "payments_tg: c 2017-01-11 04:37:00 до 2017-12-11 22:06:00 (334 days 17:29:00)\n",
      "payments_cg1: c 2016-12-14 16:16:00 до 2017-12-11 22:06:00 (362 days 05:41:00)\n",
      "payments_cg2: c 2017-01-11 05:34:00 до 2017-12-11 22:06:00 (334 days 17:54:00)\n"
     ]
    }
   ],
   "source": [
    "#В таблице CG1 есть 3 \"странные\" записи, с временными характеристиками, явно выпадающими из отрезка эксперимента\n",
    "print('payments_tg: c %s до %s (%s)'% (payments_tg.payment_date.min(), payments_tg.payment_date.max(), payments_tg.payment_date.max() - payments_tg.payment_date.min()))\n",
    "print('payments_cg1: c %s до %s (%s)'% (payments_cg1.payment_date.min(), payments_tg.payment_date.max(), payments_cg1.payment_date.max() - payments_cg1.payment_date.min()))\n",
    "print('payments_cg2: c %s до %s (%s)'% (payments_cg2.payment_date.min(), payments_tg.payment_date.max(), payments_cg2.payment_date.max() - payments_cg2.payment_date.min()))"
   ]
  },
  {
   "cell_type": "code",
   "execution_count": 12,
   "metadata": {},
   "outputs": [
    {
     "data": {
      "text/html": [
       "<div>\n",
       "<style scoped>\n",
       "    .dataframe tbody tr th:only-of-type {\n",
       "        vertical-align: middle;\n",
       "    }\n",
       "\n",
       "    .dataframe tbody tr th {\n",
       "        vertical-align: top;\n",
       "    }\n",
       "\n",
       "    .dataframe thead th {\n",
       "        text-align: right;\n",
       "    }\n",
       "</style>\n",
       "<table border=\"1\" class=\"dataframe\">\n",
       "  <thead>\n",
       "    <tr style=\"text-align: right;\">\n",
       "      <th></th>\n",
       "      <th>user_id</th>\n",
       "      <th>registration_date</th>\n",
       "      <th>payment_date</th>\n",
       "      <th>revenue</th>\n",
       "      <th>payment_service_id</th>\n",
       "      <th>place</th>\n",
       "      <th>country</th>\n",
       "      <th>product_type</th>\n",
       "    </tr>\n",
       "  </thead>\n",
       "  <tbody>\n",
       "    <tr>\n",
       "      <td>65</td>\n",
       "      <td>960936960.0</td>\n",
       "      <td>2015-01-19 11:49:00</td>\n",
       "      <td>2016-12-14 17:30:00</td>\n",
       "      <td>26.0</td>\n",
       "      <td>0.0</td>\n",
       "      <td>REFUND Деньги от FB</td>\n",
       "      <td>RU</td>\n",
       "      <td>other</td>\n",
       "    </tr>\n",
       "    <tr>\n",
       "      <td>101</td>\n",
       "      <td>960936960.0</td>\n",
       "      <td>2015-01-19 11:49:00</td>\n",
       "      <td>2016-12-14 17:35:00</td>\n",
       "      <td>637.0</td>\n",
       "      <td>0.0</td>\n",
       "      <td>REFUND Деньги от Ninja</td>\n",
       "      <td>RU</td>\n",
       "      <td>other</td>\n",
       "    </tr>\n",
       "    <tr>\n",
       "      <td>224</td>\n",
       "      <td>960936960.0</td>\n",
       "      <td>2015-01-19 11:49:00</td>\n",
       "      <td>2016-12-14 16:16:00</td>\n",
       "      <td>143.0</td>\n",
       "      <td>0.0</td>\n",
       "      <td>REFUND Деньги от PaymentWall (mobile)</td>\n",
       "      <td>RU</td>\n",
       "      <td>other</td>\n",
       "    </tr>\n",
       "  </tbody>\n",
       "</table>\n",
       "</div>"
      ],
      "text/plain": [
       "         user_id   registration_date        payment_date  revenue  \\\n",
       "65   960936960.0 2015-01-19 11:49:00 2016-12-14 17:30:00     26.0   \n",
       "101  960936960.0 2015-01-19 11:49:00 2016-12-14 17:35:00    637.0   \n",
       "224  960936960.0 2015-01-19 11:49:00 2016-12-14 16:16:00    143.0   \n",
       "\n",
       "     payment_service_id                                  place country  \\\n",
       "65                  0.0                    REFUND Деньги от FB      RU   \n",
       "101                 0.0                 REFUND Деньги от Ninja      RU   \n",
       "224                 0.0  REFUND Деньги от PaymentWall (mobile)      RU   \n",
       "\n",
       "    product_type  \n",
       "65         other  \n",
       "101        other  \n",
       "224        other  "
      ]
     },
     "execution_count": 12,
     "metadata": {},
     "output_type": "execute_result"
    }
   ],
   "source": [
    "payments_cg1[payments_cg1.payment_date < '2017-01-11']"
   ]
  },
  {
   "cell_type": "code",
   "execution_count": 13,
   "metadata": {},
   "outputs": [],
   "source": [
    "#### Удалим их:\n",
    "payments_cg1.drop(payments_cg1[payments_cg1.payment_date < '2017-01-11'].index, inplace = True)"
   ]
  },
  {
   "cell_type": "code",
   "execution_count": 14,
   "metadata": {},
   "outputs": [],
   "source": [
    "payments_tg['group'] = 'tg'\n",
    "payments_cg1['group'] = 'cg1'\n",
    "payments_cg2['group'] = 'cg2'\n",
    "payments = payments_tg.append(payments_cg1.append(payments_cg2, ignore_index = True), ignore_index = True)"
   ]
  },
  {
   "cell_type": "code",
   "execution_count": 15,
   "metadata": {},
   "outputs": [
    {
     "name": "stdout",
     "output_type": "stream",
     "text": [
      "<class 'pandas.core.frame.DataFrame'>\n",
      "RangeIndex: 975 entries, 0 to 974\n",
      "Data columns (total 9 columns):\n",
      "user_id               975 non-null float64\n",
      "registration_date     975 non-null datetime64[ns]\n",
      "payment_date          975 non-null datetime64[ns]\n",
      "revenue               975 non-null float64\n",
      "payment_service_id    975 non-null float64\n",
      "place                 975 non-null object\n",
      "country               975 non-null object\n",
      "product_type          975 non-null object\n",
      "group                 975 non-null object\n",
      "dtypes: datetime64[ns](2), float64(3), object(4)\n",
      "memory usage: 68.7+ KB\n"
     ]
    }
   ],
   "source": [
    "payments.info()"
   ]
  },
  {
   "cell_type": "code",
   "execution_count": 16,
   "metadata": {},
   "outputs": [],
   "source": [
    "#### Все равно наблюдается (на глаз) некое различие в результатах в контрольных группах 1 и 2\n",
    "#### Странно, проверим их статистически позднее"
   ]
  },
  {
   "cell_type": "code",
   "execution_count": 17,
   "metadata": {},
   "outputs": [
    {
     "data": {
      "text/plain": [
       "Text(0.5, 1.0, '(other than prem)')"
      ]
     },
     "execution_count": 17,
     "metadata": {},
     "output_type": "execute_result"
    },
    {
     "data": {
      "image/png": "[encoded data removed]",
      "text/plain": [
       "<Figure size 1440x360 with 3 Axes>"
      ]
     },
     "metadata": {
      "needs_background": "light"
     },
     "output_type": "display_data"
    }
   ],
   "source": [
    "names = ['TG', 'CG1', 'CG2']\n",
    "fig, axes = plt.subplots(nrows = 1, ncols = 3, figsize = (20, 5))\n",
    "fig.suptitle('Revenue by groups')\n",
    "ax1, ax2, ax3 = axes\n",
    "ax1.bar(names, [payments_tg.revenue.sum(), payments_cg1.revenue.sum(), payments_cg2.revenue.sum()],\\\n",
    "        color = ['b', 'g', 'g'])\n",
    "ax1.set_title('(all products)')\n",
    "ax2.bar(names, [payments_tg[payments_tg.product_type == 'prem'].revenue.sum(),\\\n",
    "                payments_cg1[payments_cg1.product_type == 'prem'].revenue.sum(),\\\n",
    "                payments_cg2[payments_cg2.product_type == 'prem'].revenue.sum()],\\\n",
    "       color = ['b', 'g', 'g'])\n",
    "ax2.set_title('(prem)')\n",
    "ax3.bar(names, [payments_tg[payments_tg.product_type != 'prem'].revenue.sum(),\\\n",
    "                payments_cg1[payments_cg1.product_type != 'prem'].revenue.sum(),\\\n",
    "                payments_cg2[payments_cg2.product_type != 'prem'].revenue.sum()],\\\n",
    "       color = ['b', 'g', 'g'])\n",
    "ax3.set_title('(other than prem)')"
   ]
  },
  {
   "cell_type": "code",
   "execution_count": 18,
   "metadata": {},
   "outputs": [],
   "source": [
    "comparison= pd.DataFrame()"
   ]
  },
  {
   "cell_type": "code",
   "execution_count": 19,
   "metadata": {},
   "outputs": [],
   "source": [
    "comparison['group']= pd.Series(['tg', 'cg1', 'cg2', 'CG combined']).transpose()"
   ]
  },
  {
   "cell_type": "code",
   "execution_count": 20,
   "metadata": {},
   "outputs": [],
   "source": [
    "a = portrait[portrait.group == 'cg1'].user_id.nunique()\n",
    "b = portrait[portrait.group == 'cg2'].user_id.nunique()\n",
    "comparison['N'] = pd.Series([portrait[portrait.group == 'tg'].user_id.nunique(), a, b, a+b]).transpose()"
   ]
  },
  {
   "cell_type": "code",
   "execution_count": 21,
   "metadata": {},
   "outputs": [],
   "source": [
    "a = payments[payments.group == 'cg1'].user_id.nunique()\n",
    "b = payments[payments.group == 'cg2'].user_id.nunique()\n",
    "comparison['N_users_payed'] = pd.Series([payments[payments.group == 'tg'].user_id.nunique(), a, b, a+b]).transpose()"
   ]
  },
  {
   "cell_type": "code",
   "execution_count": 22,
   "metadata": {},
   "outputs": [],
   "source": [
    "comparison['Conv_ratio'] = comparison['N_users_payed'] / comparison['N']"
   ]
  },
  {
   "cell_type": "code",
   "execution_count": 23,
   "metadata": {},
   "outputs": [],
   "source": [
    "a = payments[payments.group == 'cg1'].revenue.sum()\n",
    "b = payments[payments.group == 'cg2'].revenue.sum()\n",
    "comparison['Revenue_all'] = pd.Series([payments[payments.group == 'tg'].revenue.sum(), a, b, a+b]).transpose()"
   ]
  },
  {
   "cell_type": "code",
   "execution_count": 24,
   "metadata": {},
   "outputs": [],
   "source": [
    "comparison['Revenue_mean_by_group'] = comparison['Revenue_all'] / comparison['N']"
   ]
  },
  {
   "cell_type": "code",
   "execution_count": 25,
   "metadata": {},
   "outputs": [
    {
     "data": {
      "text/html": [
       "<div>\n",
       "<style scoped>\n",
       "    .dataframe tbody tr th:only-of-type {\n",
       "        vertical-align: middle;\n",
       "    }\n",
       "\n",
       "    .dataframe tbody tr th {\n",
       "        vertical-align: top;\n",
       "    }\n",
       "\n",
       "    .dataframe thead th {\n",
       "        text-align: right;\n",
       "    }\n",
       "</style>\n",
       "<table border=\"1\" class=\"dataframe\">\n",
       "  <thead>\n",
       "    <tr style=\"text-align: right;\">\n",
       "      <th></th>\n",
       "      <th>group</th>\n",
       "      <th>N</th>\n",
       "      <th>N_users_payed</th>\n",
       "      <th>Conv_ratio</th>\n",
       "      <th>Revenue_all</th>\n",
       "      <th>Revenue_mean_by_group</th>\n",
       "    </tr>\n",
       "  </thead>\n",
       "  <tbody>\n",
       "    <tr>\n",
       "      <td>0</td>\n",
       "      <td>tg</td>\n",
       "      <td>4308</td>\n",
       "      <td>146</td>\n",
       "      <td>0.033890</td>\n",
       "      <td>2344901.0</td>\n",
       "      <td>544.313138</td>\n",
       "    </tr>\n",
       "    <tr>\n",
       "      <td>1</td>\n",
       "      <td>cg1</td>\n",
       "      <td>4340</td>\n",
       "      <td>192</td>\n",
       "      <td>0.044240</td>\n",
       "      <td>2611505.0</td>\n",
       "      <td>601.729263</td>\n",
       "    </tr>\n",
       "    <tr>\n",
       "      <td>2</td>\n",
       "      <td>cg2</td>\n",
       "      <td>4264</td>\n",
       "      <td>187</td>\n",
       "      <td>0.043856</td>\n",
       "      <td>1920438.0</td>\n",
       "      <td>450.384146</td>\n",
       "    </tr>\n",
       "    <tr>\n",
       "      <td>3</td>\n",
       "      <td>CG combined</td>\n",
       "      <td>8604</td>\n",
       "      <td>379</td>\n",
       "      <td>0.044049</td>\n",
       "      <td>4531943.0</td>\n",
       "      <td>526.725128</td>\n",
       "    </tr>\n",
       "  </tbody>\n",
       "</table>\n",
       "</div>"
      ],
      "text/plain": [
       "         group     N  N_users_payed  Conv_ratio  Revenue_all  \\\n",
       "0           tg  4308            146    0.033890    2344901.0   \n",
       "1          cg1  4340            192    0.044240    2611505.0   \n",
       "2          cg2  4264            187    0.043856    1920438.0   \n",
       "3  CG combined  8604            379    0.044049    4531943.0   \n",
       "\n",
       "   Revenue_mean_by_group  \n",
       "0             544.313138  \n",
       "1             601.729263  \n",
       "2             450.384146  \n",
       "3             526.725128  "
      ]
     },
     "execution_count": 25,
     "metadata": {},
     "output_type": "execute_result"
    }
   ],
   "source": [
    "comparison"
   ]
  },
  {
   "cell_type": "markdown",
   "metadata": {},
   "source": [
    "#### Проверим распределения на нормальность"
   ]
  },
  {
   "cell_type": "code",
   "execution_count": 26,
   "metadata": {},
   "outputs": [
    {
     "data": {
      "text/plain": [
       "array([[<matplotlib.axes._subplots.AxesSubplot object at 0x7f9fb72ad190>]],\n",
       "      dtype=object)"
      ]
     },
     "execution_count": 26,
     "metadata": {},
     "output_type": "execute_result"
    },
    {
     "data": {
      "image/png": "[encoded data removed]",
      "text/plain": [
       "<Figure size 432x288 with 1 Axes>"
      ]
     },
     "metadata": {
      "needs_background": "light"
     },
     "output_type": "display_data"
    }
   ],
   "source": [
    "pd.DataFrame(payments.groupby('user_id').revenue.sum().values).hist(bins = 50)"
   ]
  },
  {
   "cell_type": "code",
   "execution_count": 27,
   "metadata": {},
   "outputs": [
    {
     "data": {
      "text/plain": [
       "(0.5640736818313599, 4.947132531180847e-19)"
      ]
     },
     "execution_count": 27,
     "metadata": {},
     "output_type": "execute_result"
    },
    {
     "data": {
      "image/png": "[encoded data removed]",
      "text/plain": [
       "<Figure size 432x288 with 1 Axes>"
      ]
     },
     "metadata": {
      "needs_background": "light"
     },
     "output_type": "display_data"
    }
   ],
   "source": [
    "pd.DataFrame(payments_tg.groupby('user_id').revenue.sum().values).hist(bins = 50)\n",
    "scipy.stats.shapiro(payments_tg.groupby('user_id').revenue.sum().values)"
   ]
  },
  {
   "cell_type": "code",
   "execution_count": 28,
   "metadata": {},
   "outputs": [],
   "source": [
    "#### совсем не похоже на нормальное распределение"
   ]
  },
  {
   "cell_type": "code",
   "execution_count": 29,
   "metadata": {},
   "outputs": [
    {
     "data": {
      "text/plain": [
       "(0.260029673576355, 3.1337237557695884e-41)"
      ]
     },
     "execution_count": 29,
     "metadata": {},
     "output_type": "execute_result"
    }
   ],
   "source": [
    "scipy.stats.shapiro(payments.groupby('user_id').revenue.sum().values)"
   ]
  },
  {
   "cell_type": "code",
   "execution_count": 30,
   "metadata": {},
   "outputs": [
    {
     "data": {
      "text/plain": [
       "(0.5640736818313599, 4.947132531180847e-19)"
      ]
     },
     "execution_count": 30,
     "metadata": {},
     "output_type": "execute_result"
    }
   ],
   "source": [
    "scipy.stats.shapiro(payments_tg.groupby('user_id').revenue.sum().values)"
   ]
  },
  {
   "cell_type": "markdown",
   "metadata": {},
   "source": [
    "#### p < 0.05 => распределения отличаются от нормального"
   ]
  },
  {
   "cell_type": "markdown",
   "metadata": {},
   "source": [
    "#### Критерий Краскела — Уоллиса (предназначен для проверки равенства медиан нескольких выборок)"
   ]
  },
  {
   "cell_type": "code",
   "execution_count": 31,
   "metadata": {},
   "outputs": [
    {
     "data": {
      "text/plain": [
       "KruskalResult(statistic=21.32445209500725, pvalue=2.3412838141931813e-05)"
      ]
     },
     "execution_count": 31,
     "metadata": {},
     "output_type": "execute_result"
    }
   ],
   "source": [
    "scipy.stats.kruskal(payments_tg.groupby('user_id').revenue.sum().values,\n",
    "                     payments_cg1.groupby('user_id').revenue.sum().values,\n",
    "                     payments_cg2.groupby('user_id').revenue.sum().values)"
   ]
  },
  {
   "cell_type": "code",
   "execution_count": 32,
   "metadata": {},
   "outputs": [
    {
     "data": {
      "text/plain": [
       "KruskalResult(statistic=12.56666047356561, pvalue=0.00039268967590893006)"
      ]
     },
     "execution_count": 32,
     "metadata": {},
     "output_type": "execute_result"
    }
   ],
   "source": [
    "scipy.stats.kruskal(payments_tg.groupby('user_id').revenue.sum().values,\n",
    "                     payments_cg1.groupby('user_id').revenue.sum().values)"
   ]
  },
  {
   "cell_type": "code",
   "execution_count": 33,
   "metadata": {},
   "outputs": [
    {
     "data": {
      "text/plain": [
       "KruskalResult(statistic=19.366703500116355, pvalue=1.0787154287283003e-05)"
      ]
     },
     "execution_count": 33,
     "metadata": {},
     "output_type": "execute_result"
    }
   ],
   "source": [
    "scipy.stats.kruskal(payments_tg.groupby('user_id').revenue.sum().values,\n",
    "                     payments_cg2.groupby('user_id').revenue.sum().values)"
   ]
  },
  {
   "cell_type": "markdown",
   "metadata": {},
   "source": [
    "##### p < 0,05 => медианы тестовой и контрольных выборок не равны"
   ]
  },
  {
   "cell_type": "code",
   "execution_count": 34,
   "metadata": {},
   "outputs": [
    {
     "data": {
      "text/plain": [
       "KruskalResult(statistic=1.2957936369683472, pvalue=0.254982996058994)"
      ]
     },
     "execution_count": 34,
     "metadata": {},
     "output_type": "execute_result"
    }
   ],
   "source": [
    "# проведем этот тест и для контрольных групп (ранее на глаз между ними было замечено некоторое различие)\n",
    "scipy.stats.kruskal(payments_cg1.groupby('user_id').revenue.sum().values,\n",
    "                     payments_cg2.groupby('user_id').revenue.sum().values)"
   ]
  },
  {
   "cell_type": "code",
   "execution_count": 35,
   "metadata": {},
   "outputs": [],
   "source": [
    "#### нет, с контрольными группами всё в порядке (p-value = 0,25)"
   ]
  },
  {
   "cell_type": "markdown",
   "metadata": {},
   "source": [
    "#### U-тест Манна — Уитни"
   ]
  },
  {
   "cell_type": "code",
   "execution_count": 36,
   "metadata": {},
   "outputs": [
    {
     "data": {
      "text/plain": [
       "MannwhitneyuResult(statistic=10862.5, pvalue=0.0001967639346526705)"
      ]
     },
     "execution_count": 36,
     "metadata": {},
     "output_type": "execute_result"
    }
   ],
   "source": [
    "scipy.stats.mannwhitneyu(payments_tg.groupby('user_id').revenue.sum().values,\\\n",
    "                         payments_cg1.groupby('user_id').revenue.sum().values)"
   ]
  },
  {
   "cell_type": "code",
   "execution_count": 37,
   "metadata": {},
   "outputs": [
    {
     "data": {
      "text/plain": [
       "MannwhitneyuResult(statistic=9816.5, pvalue=5.4078602084577595e-06)"
      ]
     },
     "execution_count": 37,
     "metadata": {},
     "output_type": "execute_result"
    }
   ],
   "source": [
    "scipy.stats.mannwhitneyu(payments_tg.groupby('user_id').revenue.sum().values,\\\n",
    "                         payments_cg2.groupby('user_id').revenue.sum().values)"
   ]
  },
  {
   "cell_type": "markdown",
   "metadata": {},
   "source": [
    "##### различия между значениями выручки по пользователям в тестовой и контрольных выборках достоверны"
   ]
  },
  {
   "cell_type": "code",
   "execution_count": 38,
   "metadata": {},
   "outputs": [
    {
     "data": {
      "text/plain": [
       "MannwhitneyuResult(statistic=16739.0, pvalue=0.1275894527007122)"
      ]
     },
     "execution_count": 38,
     "metadata": {},
     "output_type": "execute_result"
    }
   ],
   "source": [
    "# сравним для интереса и контрольные выборки:\n",
    "scipy.stats.mannwhitneyu(payments_cg1.groupby('user_id').revenue.sum().values,\\\n",
    "                         payments_cg2.groupby('user_id').revenue.sum().values)"
   ]
  },
  {
   "cell_type": "code",
   "execution_count": 39,
   "metadata": {},
   "outputs": [
    {
     "data": {
      "text/plain": [
       "<matplotlib.axes._subplots.AxesSubplot at 0x7f9fb8365110>"
      ]
     },
     "execution_count": 39,
     "metadata": {},
     "output_type": "execute_result"
    },
    {
     "data": {
      "image/png": "[encoded data removed]",
      "text/plain": [
       "<Figure size 432x288 with 1 Axes>"
      ]
     },
     "metadata": {
      "needs_background": "light"
     },
     "output_type": "display_data"
    }
   ],
   "source": [
    "sns.boxplot(x='group', y='revenue', data=payments, orient=\"v\", showfliers = False)"
   ]
  },
  {
   "cell_type": "code",
   "execution_count": 40,
   "metadata": {},
   "outputs": [
    {
     "data": {
      "text/plain": [
       "Text(0.5, 0.98, 'Доля пользователей, приобретающих платные услуги')"
      ]
     },
     "execution_count": 40,
     "metadata": {},
     "output_type": "execute_result"
    },
    {
     "data": {
      "image/png": "[encoded data removed]",
      "text/plain": [
       "<Figure size 432x288 with 1 Axes>"
      ]
     },
     "metadata": {
      "needs_background": "light"
     },
     "output_type": "display_data"
    }
   ],
   "source": [
    "data = comparison[:3]\n",
    "plt.bar(x = data.group, height = data.Conv_ratio)\n",
    "plt.suptitle('Доля пользователей, приобретающих платные услуги')"
   ]
  },
  {
   "cell_type": "code",
   "execution_count": 41,
   "metadata": {},
   "outputs": [
    {
     "name": "stdout",
     "output_type": "stream",
     "text": [
      "Выручка в среднем с пользователя из тестовой группы:  544.3131383472609\n",
      "Выручка в среднем с пользователей из контрольных групп:  526.7251278475128\n"
     ]
    }
   ],
   "source": [
    "print('Выручка в среднем с пользователя из тестовой группы: ', payments_tg.revenue.sum() / portrait_tg.user_id.nunique())\n",
    "print('Выручка в среднем с пользователей из контрольных групп: ', \\\n",
    "      (payments_cg1.revenue.sum() + payments_cg2.revenue.sum())/ (portrait_cg1.user_id.nunique() + portrait_cg2.user_id.nunique()))"
   ]
  },
  {
   "cell_type": "code",
   "execution_count": 42,
   "metadata": {},
   "outputs": [
    {
     "name": "stdout",
     "output_type": "stream",
     "text": [
      "Выручка в среднем с платящего пользователя из тестовой группы:  16060.965753424658\n",
      "Выручка в среднем с платящего пользователей из контрольный групп:  11957.633245382585\n"
     ]
    }
   ],
   "source": [
    "print('Выручка в среднем с платящего пользователя из тестовой группы: ', payments_tg.revenue.sum() / payments_tg.user_id.nunique())\n",
    "print('Выручка в среднем с платящего пользователей из контрольный групп: ', \\\n",
    "      (payments_cg1.revenue.sum() + payments_cg2.revenue.sum())/ (payments_cg1.user_id.nunique() + payments_cg2.user_id.nunique()))"
   ]
  },
  {
   "cell_type": "markdown",
   "metadata": {},
   "source": [
    "## Результаты эксперимента положительные - средняя выручка с пользователя изменилась (возросла на 3,3%)\n",
    "### Пользователи стали меньше приобретать платные услуги (доля платных пользователей упала с 4,4% в контрольных группах до 3,4% в тестовой группе ), но те, кто платит - стали платить больше (в среднем на 34%)."
   ]
  },
  {
   "cell_type": "code",
   "execution_count": 43,
   "metadata": {},
   "outputs": [],
   "source": [
    "#### Посмотрим, как реагируют пользователи разных возрастных групп на повышение стоимости премиум-подписки"
   ]
  },
  {
   "cell_type": "code",
   "execution_count": 44,
   "metadata": {},
   "outputs": [
    {
     "data": {
      "text/plain": [
       "count    4308.000000\n",
       "mean       31.889276\n",
       "std        10.245287\n",
       "min        16.000000\n",
       "25%        25.000000\n",
       "50%        30.000000\n",
       "75%        38.000000\n",
       "max        99.000000\n",
       "Name: age, dtype: float64"
      ]
     },
     "execution_count": 44,
     "metadata": {},
     "output_type": "execute_result"
    }
   ],
   "source": [
    "portrait_tg.age.describe()"
   ]
  },
  {
   "cell_type": "code",
   "execution_count": 45,
   "metadata": {},
   "outputs": [],
   "source": [
    "portrait_cg = portrait_cg1.append(portrait_cg2, ignore_index = True)"
   ]
  },
  {
   "cell_type": "code",
   "execution_count": 46,
   "metadata": {},
   "outputs": [],
   "source": [
    "portrait_tg['age_quartile'] = 0\n",
    "portrait_cg['age_quartile'] = 0"
   ]
  },
  {
   "cell_type": "code",
   "execution_count": 47,
   "metadata": {},
   "outputs": [
    {
     "name": "stderr",
     "output_type": "stream",
     "text": [
      "/Users/macbook/opt/anaconda3/lib/python3.7/site-packages/ipykernel_launcher.py:3: SettingWithCopyWarning: \n",
      "A value is trying to be set on a copy of a slice from a DataFrame\n",
      "\n",
      "See the caveats in the documentation: http://pandas.pydata.org/pandas-docs/stable/user_guide/indexing.html#returning-a-view-versus-a-copy\n",
      "  This is separate from the ipykernel package so we can avoid doing imports until\n",
      "/Users/macbook/opt/anaconda3/lib/python3.7/site-packages/ipykernel_launcher.py:5: SettingWithCopyWarning: \n",
      "A value is trying to be set on a copy of a slice from a DataFrame\n",
      "\n",
      "See the caveats in the documentation: http://pandas.pydata.org/pandas-docs/stable/user_guide/indexing.html#returning-a-view-versus-a-copy\n",
      "  \"\"\"\n",
      "/Users/macbook/opt/anaconda3/lib/python3.7/site-packages/ipykernel_launcher.py:4: SettingWithCopyWarning: \n",
      "A value is trying to be set on a copy of a slice from a DataFrame\n",
      "\n",
      "See the caveats in the documentation: http://pandas.pydata.org/pandas-docs/stable/user_guide/indexing.html#returning-a-view-versus-a-copy\n",
      "  after removing the cwd from sys.path.\n",
      "/Users/macbook/opt/anaconda3/lib/python3.7/site-packages/ipykernel_launcher.py:2: SettingWithCopyWarning: \n",
      "A value is trying to be set on a copy of a slice from a DataFrame\n",
      "\n",
      "See the caveats in the documentation: http://pandas.pydata.org/pandas-docs/stable/user_guide/indexing.html#returning-a-view-versus-a-copy\n",
      "  \n",
      "/Users/macbook/opt/anaconda3/lib/python3.7/site-packages/ipykernel_launcher.py:9: SettingWithCopyWarning: \n",
      "A value is trying to be set on a copy of a slice from a DataFrame\n",
      "\n",
      "See the caveats in the documentation: http://pandas.pydata.org/pandas-docs/stable/user_guide/indexing.html#returning-a-view-versus-a-copy\n",
      "  if __name__ == '__main__':\n",
      "/Users/macbook/opt/anaconda3/lib/python3.7/site-packages/ipykernel_launcher.py:10: SettingWithCopyWarning: \n",
      "A value is trying to be set on a copy of a slice from a DataFrame\n",
      "\n",
      "See the caveats in the documentation: http://pandas.pydata.org/pandas-docs/stable/user_guide/indexing.html#returning-a-view-versus-a-copy\n",
      "  # Remove the CWD from sys.path while we load stuff.\n",
      "/Users/macbook/opt/anaconda3/lib/python3.7/site-packages/ipykernel_launcher.py:8: SettingWithCopyWarning: \n",
      "A value is trying to be set on a copy of a slice from a DataFrame\n",
      "\n",
      "See the caveats in the documentation: http://pandas.pydata.org/pandas-docs/stable/user_guide/indexing.html#returning-a-view-versus-a-copy\n",
      "  \n",
      "/Users/macbook/opt/anaconda3/lib/python3.7/site-packages/ipykernel_launcher.py:11: SettingWithCopyWarning: \n",
      "A value is trying to be set on a copy of a slice from a DataFrame\n",
      "\n",
      "See the caveats in the documentation: http://pandas.pydata.org/pandas-docs/stable/user_guide/indexing.html#returning-a-view-versus-a-copy\n",
      "  # This is added back by InteractiveShellApp.init_path()\n"
     ]
    }
   ],
   "source": [
    "for i in range(0, len(portrait_tg.age)):\n",
    "    if portrait_tg.age[i] in range(0, 25): portrait_tg['age_quartile'][i] = 1\n",
    "    elif portrait_tg.age[i] in range(25, 30): portrait_tg['age_quartile'][i] = 2\n",
    "    elif portrait_tg.age[i] in range(30, 38): portrait_tg['age_quartile'][i] = 3\n",
    "    else: portrait_tg['age_quartile'][i] = 4\n",
    "\n",
    "for i in range(0, len(portrait_cg.age)):\n",
    "    if portrait_cg.age[i] in range(0, 25): portrait_cg['age_quartile'][i] = 1\n",
    "    elif portrait_cg.age[i] in range(25, 30): portrait_cg['age_quartile'][i] = 2\n",
    "    elif portrait_cg.age[i] in range(30, 38): portrait_cg['age_quartile'][i] = 3\n",
    "    else: portrait_cg['age_quartile'][i] = 4\n",
    "    "
   ]
  },
  {
   "cell_type": "code",
   "execution_count": 48,
   "metadata": {},
   "outputs": [
    {
     "data": {
      "text/plain": [
       "<seaborn.axisgrid.FacetGrid at 0x7f9fb86ae390>"
      ]
     },
     "execution_count": 48,
     "metadata": {},
     "output_type": "execute_result"
    },
    {
     "data": {
      "image/png": "[encoded data removed]",
      "text/plain": [
       "<Figure size 360x360 with 1 Axes>"
      ]
     },
     "metadata": {
      "needs_background": "light"
     },
     "output_type": "display_data"
    },
    {
     "data": {
      "image/png": "[encoded data removed]",
      "text/plain": [
       "<Figure size 360x360 with 1 Axes>"
      ]
     },
     "metadata": {
      "needs_background": "light"
     },
     "output_type": "display_data"
    }
   ],
   "source": [
    "sns.relplot(data = portrait_cg, x = 'age_quartile', y = 'total_revenue', kind = 'line')\n",
    "sns.relplot(data = portrait_tg, x = 'age_quartile', y = 'total_revenue', kind = 'line')"
   ]
  },
  {
   "cell_type": "code",
   "execution_count": 49,
   "metadata": {},
   "outputs": [
    {
     "name": "stdout",
     "output_type": "stream",
     "text": [
      "Контрольные группы:\n",
      "Средняя выручка с пользователя из 1-го возрастного квартиля 664.4343575418994\n",
      "Средняя выручка с пользователя из 2-го возрастного квартиля 540.5987780040733\n",
      "Средняя выручка с пользователя из 3-го возрастного квартиля 419.21550530687585\n",
      "Средняя выручка с пользователя из 4-го возрастного квартиля 474.97806451612905\n"
     ]
    }
   ],
   "source": [
    "print('Контрольные группы:')\n",
    "for i in range(1,5):\n",
    "    print('Средняя выручка с пользователя из %s-го возрастного квартиля'%i,portrait_cg[portrait_cg.age_quartile == i].total_revenue.sum() / portrait_cg[portrait_cg.age_quartile == i].user_id.nunique())"
   ]
  },
  {
   "cell_type": "code",
   "execution_count": 50,
   "metadata": {},
   "outputs": [
    {
     "name": "stdout",
     "output_type": "stream",
     "text": [
      "Тестовая группа:\n",
      "Средняя выручка с пользователя из 1-го возрастного квартиля 468.52389878163075\n",
      "Средняя выручка с пользователя из 2-го возрастного квартиля 447.30864197530866\n",
      "Средняя выручка с пользователя из 3-го возрастного квартиля 608.798877455566\n",
      "Средняя выручка с пользователя из 4-го возрастного квартиля 606.864164432529\n"
     ]
    }
   ],
   "source": [
    "print('Тестовая группа:')\n",
    "for i in range(1,5):\n",
    "    print('Средняя выручка с пользователя из %s-го возрастного квартиля'%i,portrait_tg[portrait_tg.age_quartile == i].total_revenue.sum() / portrait_tg[portrait_tg.age_quartile == i].user_id.nunique())"
   ]
  },
  {
   "cell_type": "markdown",
   "metadata": {},
   "source": [
    "### более молодая половина пользователей стала тратить гораздо меньше,\n",
    "### в то время как более взрослая - намного больше\n",
    "### возможно, повышать цену целесообразнее было бы только для более возрастных групп пользователей"
   ]
  },
  {
   "cell_type": "code",
   "execution_count": 51,
   "metadata": {},
   "outputs": [
    {
     "data": {
      "text/html": [
       "<div>\n",
       "<style scoped>\n",
       "    .dataframe tbody tr th:only-of-type {\n",
       "        vertical-align: middle;\n",
       "    }\n",
       "\n",
       "    .dataframe tbody tr th {\n",
       "        vertical-align: top;\n",
       "    }\n",
       "\n",
       "    .dataframe thead th {\n",
       "        text-align: right;\n",
       "    }\n",
       "</style>\n",
       "<table border=\"1\" class=\"dataframe\">\n",
       "  <thead>\n",
       "    <tr style=\"text-align: right;\">\n",
       "      <th></th>\n",
       "      <th>user_id</th>\n",
       "      <th>age</th>\n",
       "      <th>attraction_distribution</th>\n",
       "      <th>coins</th>\n",
       "      <th>country</th>\n",
       "      <th>retention_days</th>\n",
       "      <th>sex</th>\n",
       "      <th>user_dating.age_start</th>\n",
       "      <th>user_dating.age_end</th>\n",
       "      <th>view_count</th>\n",
       "      <th>was_special</th>\n",
       "      <th>is_special</th>\n",
       "      <th>total_revenue</th>\n",
       "      <th>group</th>\n",
       "      <th>age_quartile</th>\n",
       "    </tr>\n",
       "  </thead>\n",
       "  <tbody>\n",
       "    <tr>\n",
       "      <td>0</td>\n",
       "      <td>892309896</td>\n",
       "      <td>27</td>\n",
       "      <td>685</td>\n",
       "      <td>NaN</td>\n",
       "      <td>US</td>\n",
       "      <td>1,2,3,4,5,6,7,8,9,10,11,12,16,17</td>\n",
       "      <td>1</td>\n",
       "      <td>24</td>\n",
       "      <td>30</td>\n",
       "      <td>89</td>\n",
       "      <td>NaN</td>\n",
       "      <td>NaN</td>\n",
       "      <td>0</td>\n",
       "      <td>tg</td>\n",
       "      <td>2</td>\n",
       "    </tr>\n",
       "    <tr>\n",
       "      <td>1</td>\n",
       "      <td>892044516</td>\n",
       "      <td>27</td>\n",
       "      <td>0</td>\n",
       "      <td>NaN</td>\n",
       "      <td>DE</td>\n",
       "      <td>NaN</td>\n",
       "      <td>1</td>\n",
       "      <td>24</td>\n",
       "      <td>30</td>\n",
       "      <td>0</td>\n",
       "      <td>NaN</td>\n",
       "      <td>NaN</td>\n",
       "      <td>0</td>\n",
       "      <td>tg</td>\n",
       "      <td>2</td>\n",
       "    </tr>\n",
       "    <tr>\n",
       "      <td>2</td>\n",
       "      <td>892185708</td>\n",
       "      <td>45</td>\n",
       "      <td>44</td>\n",
       "      <td>NaN</td>\n",
       "      <td>IL</td>\n",
       "      <td>1,3,4,6,7,8,10,11,12,13,14,15,16,17,18,19,20,2...</td>\n",
       "      <td>1</td>\n",
       "      <td>42</td>\n",
       "      <td>48</td>\n",
       "      <td>68</td>\n",
       "      <td>NaN</td>\n",
       "      <td>NaN</td>\n",
       "      <td>0</td>\n",
       "      <td>tg</td>\n",
       "      <td>4</td>\n",
       "    </tr>\n",
       "    <tr>\n",
       "      <td>3</td>\n",
       "      <td>892130292</td>\n",
       "      <td>32</td>\n",
       "      <td>0</td>\n",
       "      <td>NaN</td>\n",
       "      <td>US</td>\n",
       "      <td>1,2,3,4,5,6,7,8,9,10,11,12</td>\n",
       "      <td>1</td>\n",
       "      <td>29</td>\n",
       "      <td>35</td>\n",
       "      <td>0</td>\n",
       "      <td>NaN</td>\n",
       "      <td>NaN</td>\n",
       "      <td>0</td>\n",
       "      <td>tg</td>\n",
       "      <td>3</td>\n",
       "    </tr>\n",
       "    <tr>\n",
       "      <td>4</td>\n",
       "      <td>891406035</td>\n",
       "      <td>27</td>\n",
       "      <td>1000</td>\n",
       "      <td>NaN</td>\n",
       "      <td>FR</td>\n",
       "      <td>NaN</td>\n",
       "      <td>1</td>\n",
       "      <td>24</td>\n",
       "      <td>30</td>\n",
       "      <td>1</td>\n",
       "      <td>1.0</td>\n",
       "      <td>NaN</td>\n",
       "      <td>0</td>\n",
       "      <td>tg</td>\n",
       "      <td>2</td>\n",
       "    </tr>\n",
       "    <tr>\n",
       "      <td>...</td>\n",
       "      <td>...</td>\n",
       "      <td>...</td>\n",
       "      <td>...</td>\n",
       "      <td>...</td>\n",
       "      <td>...</td>\n",
       "      <td>...</td>\n",
       "      <td>...</td>\n",
       "      <td>...</td>\n",
       "      <td>...</td>\n",
       "      <td>...</td>\n",
       "      <td>...</td>\n",
       "      <td>...</td>\n",
       "      <td>...</td>\n",
       "      <td>...</td>\n",
       "      <td>...</td>\n",
       "    </tr>\n",
       "    <tr>\n",
       "      <td>95</td>\n",
       "      <td>891448611</td>\n",
       "      <td>23</td>\n",
       "      <td>0</td>\n",
       "      <td>NaN</td>\n",
       "      <td>IT</td>\n",
       "      <td>NaN</td>\n",
       "      <td>1</td>\n",
       "      <td>20</td>\n",
       "      <td>26</td>\n",
       "      <td>4</td>\n",
       "      <td>NaN</td>\n",
       "      <td>NaN</td>\n",
       "      <td>0</td>\n",
       "      <td>tg</td>\n",
       "      <td>1</td>\n",
       "    </tr>\n",
       "    <tr>\n",
       "      <td>96</td>\n",
       "      <td>891381948</td>\n",
       "      <td>22</td>\n",
       "      <td>500</td>\n",
       "      <td>NaN</td>\n",
       "      <td>IT</td>\n",
       "      <td>NaN</td>\n",
       "      <td>1</td>\n",
       "      <td>19</td>\n",
       "      <td>25</td>\n",
       "      <td>4</td>\n",
       "      <td>NaN</td>\n",
       "      <td>NaN</td>\n",
       "      <td>0</td>\n",
       "      <td>tg</td>\n",
       "      <td>1</td>\n",
       "    </tr>\n",
       "    <tr>\n",
       "      <td>97</td>\n",
       "      <td>891761364</td>\n",
       "      <td>24</td>\n",
       "      <td>0</td>\n",
       "      <td>NaN</td>\n",
       "      <td>CL</td>\n",
       "      <td>1,3,4,5,7,8,9,10,12,13,14,15,16,17</td>\n",
       "      <td>1</td>\n",
       "      <td>20</td>\n",
       "      <td>29</td>\n",
       "      <td>2</td>\n",
       "      <td>NaN</td>\n",
       "      <td>NaN</td>\n",
       "      <td>0</td>\n",
       "      <td>tg</td>\n",
       "      <td>1</td>\n",
       "    </tr>\n",
       "    <tr>\n",
       "      <td>98</td>\n",
       "      <td>891152664</td>\n",
       "      <td>38</td>\n",
       "      <td>550</td>\n",
       "      <td>NaN</td>\n",
       "      <td>US</td>\n",
       "      <td>1,2,3,4</td>\n",
       "      <td>0</td>\n",
       "      <td>40</td>\n",
       "      <td>99</td>\n",
       "      <td>656</td>\n",
       "      <td>NaN</td>\n",
       "      <td>NaN</td>\n",
       "      <td>0</td>\n",
       "      <td>tg</td>\n",
       "      <td>4</td>\n",
       "    </tr>\n",
       "    <tr>\n",
       "      <td>99</td>\n",
       "      <td>892045269</td>\n",
       "      <td>16</td>\n",
       "      <td>1000</td>\n",
       "      <td>NaN</td>\n",
       "      <td>CL</td>\n",
       "      <td>NaN</td>\n",
       "      <td>1</td>\n",
       "      <td>13</td>\n",
       "      <td>19</td>\n",
       "      <td>3</td>\n",
       "      <td>NaN</td>\n",
       "      <td>NaN</td>\n",
       "      <td>0</td>\n",
       "      <td>tg</td>\n",
       "      <td>1</td>\n",
       "    </tr>\n",
       "  </tbody>\n",
       "</table>\n",
       "<p>100 rows × 15 columns</p>\n",
       "</div>"
      ],
      "text/plain": [
       "      user_id  age  attraction_distribution  coins country  \\\n",
       "0   892309896   27                      685    NaN      US   \n",
       "1   892044516   27                        0    NaN      DE   \n",
       "2   892185708   45                       44    NaN      IL   \n",
       "3   892130292   32                        0    NaN      US   \n",
       "4   891406035   27                     1000    NaN      FR   \n",
       "..        ...  ...                      ...    ...     ...   \n",
       "95  891448611   23                        0    NaN      IT   \n",
       "96  891381948   22                      500    NaN      IT   \n",
       "97  891761364   24                        0    NaN      CL   \n",
       "98  891152664   38                      550    NaN      US   \n",
       "99  892045269   16                     1000    NaN      CL   \n",
       "\n",
       "                                       retention_days  sex  \\\n",
       "0                    1,2,3,4,5,6,7,8,9,10,11,12,16,17    1   \n",
       "1                                                 NaN    1   \n",
       "2   1,3,4,6,7,8,10,11,12,13,14,15,16,17,18,19,20,2...    1   \n",
       "3                          1,2,3,4,5,6,7,8,9,10,11,12    1   \n",
       "4                                                 NaN    1   \n",
       "..                                                ...  ...   \n",
       "95                                                NaN    1   \n",
       "96                                                NaN    1   \n",
       "97                 1,3,4,5,7,8,9,10,12,13,14,15,16,17    1   \n",
       "98                                            1,2,3,4    0   \n",
       "99                                                NaN    1   \n",
       "\n",
       "    user_dating.age_start  user_dating.age_end  view_count  was_special  \\\n",
       "0                      24                   30          89          NaN   \n",
       "1                      24                   30           0          NaN   \n",
       "2                      42                   48          68          NaN   \n",
       "3                      29                   35           0          NaN   \n",
       "4                      24                   30           1          1.0   \n",
       "..                    ...                  ...         ...          ...   \n",
       "95                     20                   26           4          NaN   \n",
       "96                     19                   25           4          NaN   \n",
       "97                     20                   29           2          NaN   \n",
       "98                     40                   99         656          NaN   \n",
       "99                     13                   19           3          NaN   \n",
       "\n",
       "    is_special  total_revenue group  age_quartile  \n",
       "0          NaN              0    tg             2  \n",
       "1          NaN              0    tg             2  \n",
       "2          NaN              0    tg             4  \n",
       "3          NaN              0    tg             3  \n",
       "4          NaN              0    tg             2  \n",
       "..         ...            ...   ...           ...  \n",
       "95         NaN              0    tg             1  \n",
       "96         NaN              0    tg             1  \n",
       "97         NaN              0    tg             1  \n",
       "98         NaN              0    tg             4  \n",
       "99         NaN              0    tg             1  \n",
       "\n",
       "[100 rows x 15 columns]"
      ]
     },
     "execution_count": 51,
     "metadata": {},
     "output_type": "execute_result"
    }
   ],
   "source": [
    "portrait_tg.head(100\n",
    "    )"
   ]
  },
  {
   "cell_type": "code",
   "execution_count": null,
   "metadata": {},
   "outputs": [],
   "source": []
  }
 ],
 "metadata": {
  "kernelspec": {
   "display_name": "Python 3",
   "language": "python",
   "name": "python3"
  },
  "language_info": {
   "codemirror_mode": {
    "name": "ipython",
    "version": 3
   },
   "file_extension": ".py",
   "mimetype": "text/x-python",
   "name": "python",
   "nbconvert_exporter": "python",
   "pygments_lexer": "ipython3",
   "version": "3.7.4"
  }
 },
 "nbformat": 4,
 "nbformat_minor": 2
}
